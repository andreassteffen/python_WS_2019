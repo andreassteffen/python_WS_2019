{
 "cells": [
  {
   "cell_type": "code",
   "execution_count": 21,
   "metadata": {},
   "outputs": [],
   "source": [
    "import pandas as pd"
   ]
  },
  {
   "cell_type": "code",
   "execution_count": 22,
   "metadata": {},
   "outputs": [
    {
     "data": {
      "application/vnd.jupyter.widget-view+json": {
       "model_id": "5c4038c7daef41f0a10859a4360fc479",
       "version_major": 2,
       "version_minor": 0
      },
      "text/plain": [
       "Innotater(children=(HBox(children=(VBox(children=(ImagePad(value=b'\\x89PNG\\r\\n\\x1a\\n\\x00\\x00\\x00\\rIHDR\\x00\\x00…"
      ]
     },
     "metadata": {},
     "output_type": "display_data"
    }
   ],
   "source": [
    "from jupyter_innotater import *\n",
    "import numpy as np, os\n",
    "IMAGES = '../data/mouse_dataset/images'\n",
    "images = os.listdir(IMAGES)\n",
    "repeats = 3\n",
    "# Repeats within each photo\n",
    "targets_bboxes = np.zeros((len(images), repeats, 4), dtype='int') # (x,y,w,h) for each animal\n",
    "\n",
    "Innotater(\n",
    "    ImageInnotation(images, path=IMAGES),\n",
    "    [\n",
    "        RepeatInnotation(\n",
    "            (BoundingBoxInnotation, targets_bboxes),\n",
    "             max_repeats=repeats, min_repeats=3\n",
    "        )\n",
    "    ]\n",
    ")"
   ]
  },
  {
   "cell_type": "code",
   "execution_count": 12,
   "metadata": {},
   "outputs": [],
   "source": [
    "annotations = []\n",
    "for i in range(20):\n",
    "    d = dict()\n",
    "    d['fn'] = images[i]\n",
    "    for j in range(3):\n",
    "        x,y,w,h = targets_bboxes[i][j]\n",
    "        x1=x\n",
    "        x2=x+w\n",
    "        y1=y\n",
    "        y2=y+h\n",
    "        d.setdefault('objects',[]).append([x1,y1,x2,y2])\n",
    "        annotations.append(d)"
   ]
  },
  {
   "cell_type": "code",
   "execution_count": 2,
   "metadata": {},
   "outputs": [],
   "source": [
    "annotations  = [{'fn': 'image_0393.png',\n",
    "  'objects': [[309, 71, 407, 143],\n",
    "   [149, 282, 236, 365],\n",
    "   [563, 288, 622, 363]]},\n",
    " {'fn': 'image_0393.png',\n",
    "  'objects': [[309, 71, 407, 143],\n",
    "   [149, 282, 236, 365],\n",
    "   [563, 288, 622, 363]]},\n",
    " {'fn': 'image_0393.png',\n",
    "  'objects': [[309, 71, 407, 143],\n",
    "   [149, 282, 236, 365],\n",
    "   [563, 288, 622, 363]]},\n",
    " {'fn': 'image_0387.png',\n",
    "  'objects': [[152, 278, 224, 364],\n",
    "   [316, 85, 406, 135],\n",
    "   [539, 305, 653, 373]]},\n",
    " {'fn': 'image_0387.png',\n",
    "  'objects': [[152, 278, 224, 364],\n",
    "   [316, 85, 406, 135],\n",
    "   [539, 305, 653, 373]]},\n",
    " {'fn': 'image_0387.png',\n",
    "  'objects': [[152, 278, 224, 364],\n",
    "   [316, 85, 406, 135],\n",
    "   [539, 305, 653, 373]]},\n",
    " {'fn': 'image_0378.png',\n",
    "  'objects': [[155, 265, 233, 357],\n",
    "   [304, 96, 390, 177],\n",
    "   [538, 302, 633, 373]]},\n",
    " {'fn': 'image_0378.png',\n",
    "  'objects': [[155, 265, 233, 357],\n",
    "   [304, 96, 390, 177],\n",
    "   [538, 302, 633, 373]]},\n",
    " {'fn': 'image_0378.png',\n",
    "  'objects': [[155, 265, 233, 357],\n",
    "   [304, 96, 390, 177],\n",
    "   [538, 302, 633, 373]]},\n",
    " {'fn': 'image_0436.png',\n",
    "  'objects': [[158, 297, 239, 370],\n",
    "   [142, 107, 204, 230],\n",
    "   [321, 87, 405, 138]]},\n",
    " {'fn': 'image_0436.png',\n",
    "  'objects': [[158, 297, 239, 370],\n",
    "   [142, 107, 204, 230],\n",
    "   [321, 87, 405, 138]]},\n",
    " {'fn': 'image_0436.png',\n",
    "  'objects': [[158, 297, 239, 370],\n",
    "   [142, 107, 204, 230],\n",
    "   [321, 87, 405, 138]]},\n",
    " {'fn': 'image_0350.png',\n",
    "  'objects': [[324, 93, 422, 153],\n",
    "   [484, 103, 598, 151],\n",
    "   [219, 304, 335, 366]]},\n",
    " {'fn': 'image_0350.png',\n",
    "  'objects': [[324, 93, 422, 153],\n",
    "   [484, 103, 598, 151],\n",
    "   [219, 304, 335, 366]]},\n",
    " {'fn': 'image_0350.png',\n",
    "  'objects': [[324, 93, 422, 153],\n",
    "   [484, 103, 598, 151],\n",
    "   [219, 304, 335, 366]]},\n",
    " {'fn': 'image_0344.png',\n",
    "  'objects': [[185, 284, 272, 339], [496, 98, 544, 196], [529, 86, 616, 153]]},\n",
    " {'fn': 'image_0344.png',\n",
    "  'objects': [[185, 284, 272, 339], [496, 98, 544, 196], [529, 86, 616, 153]]},\n",
    " {'fn': 'image_0344.png',\n",
    "  'objects': [[185, 284, 272, 339], [496, 98, 544, 196], [529, 86, 616, 153]]},\n",
    " {'fn': 'image_0422.png',\n",
    "  'objects': [[164, 288, 277, 359],\n",
    "   [282, 321, 375, 395],\n",
    "   [317, 82, 410, 141]]},\n",
    " {'fn': 'image_0422.png',\n",
    "  'objects': [[164, 288, 277, 359],\n",
    "   [282, 321, 375, 395],\n",
    "   [317, 82, 410, 141]]},\n",
    " {'fn': 'image_0422.png',\n",
    "  'objects': [[164, 288, 277, 359],\n",
    "   [282, 321, 375, 395],\n",
    "   [317, 82, 410, 141]]},\n",
    " {'fn': 'image_0191.png',\n",
    "  'objects': [[183, 297, 300, 366],\n",
    "   [453, 267, 549, 366],\n",
    "   [369, 88, 431, 173]]},\n",
    " {'fn': 'image_0191.png',\n",
    "  'objects': [[183, 297, 300, 366],\n",
    "   [453, 267, 549, 366],\n",
    "   [369, 88, 431, 173]]},\n",
    " {'fn': 'image_0191.png',\n",
    "  'objects': [[183, 297, 300, 366],\n",
    "   [453, 267, 549, 366],\n",
    "   [369, 88, 431, 173]]},\n",
    " {'fn': 'image_0185.png',\n",
    "  'objects': [[217, 279, 328, 370],\n",
    "   [461, 295, 564, 366],\n",
    "   [342, 74, 453, 145]]},\n",
    " {'fn': 'image_0185.png',\n",
    "  'objects': [[217, 279, 328, 370],\n",
    "   [461, 295, 564, 366],\n",
    "   [342, 74, 453, 145]]},\n",
    " {'fn': 'image_0185.png',\n",
    "  'objects': [[217, 279, 328, 370],\n",
    "   [461, 295, 564, 366],\n",
    "   [342, 74, 453, 145]]},\n",
    " {'fn': 'image_0152.png',\n",
    "  'objects': [[250, 287, 359, 402],\n",
    "   [441, 140, 565, 258],\n",
    "   [579, 273, 637, 373]]},\n",
    " {'fn': 'image_0152.png',\n",
    "  'objects': [[250, 287, 359, 402],\n",
    "   [441, 140, 565, 258],\n",
    "   [579, 273, 637, 373]]},\n",
    " {'fn': 'image_0152.png',\n",
    "  'objects': [[250, 287, 359, 402],\n",
    "   [441, 140, 565, 258],\n",
    "   [579, 273, 637, 373]]},\n",
    " {'fn': 'image_0146.png',\n",
    "  'objects': [[338, 315, 473, 377],\n",
    "   [567, 293, 637, 376],\n",
    "   [319, 81, 403, 158]]},\n",
    " {'fn': 'image_0146.png',\n",
    "  'objects': [[338, 315, 473, 377],\n",
    "   [567, 293, 637, 376],\n",
    "   [319, 81, 403, 158]]},\n",
    " {'fn': 'image_0146.png',\n",
    "  'objects': [[338, 315, 473, 377],\n",
    "   [567, 293, 637, 376],\n",
    "   [319, 81, 403, 158]]},\n",
    " {'fn': 'image_0026.png',\n",
    "  'objects': [[143, 274, 223, 344],\n",
    "   [166, 72, 289, 142],\n",
    "   [507, 294, 596, 369]]},\n",
    " {'fn': 'image_0026.png',\n",
    "  'objects': [[143, 274, 223, 344],\n",
    "   [166, 72, 289, 142],\n",
    "   [507, 294, 596, 369]]},\n",
    " {'fn': 'image_0026.png',\n",
    "  'objects': [[143, 274, 223, 344],\n",
    "   [166, 72, 289, 142],\n",
    "   [507, 294, 596, 369]]},\n",
    " {'fn': 'image_0032.png',\n",
    "  'objects': [[549, 258, 623, 359],\n",
    "   [154, 80, 280, 142],\n",
    "   [149, 283, 222, 363]]},\n",
    " {'fn': 'image_0032.png',\n",
    "  'objects': [[549, 258, 623, 359],\n",
    "   [154, 80, 280, 142],\n",
    "   [149, 283, 222, 363]]},\n",
    " {'fn': 'image_0032.png',\n",
    "  'objects': [[549, 258, 623, 359],\n",
    "   [154, 80, 280, 142],\n",
    "   [149, 283, 222, 363]]},\n",
    " {'fn': 'image_0218.png',\n",
    "  'objects': [[307, 90, 419, 182], [472, 81, 591, 135], [116, 295, 234, 360]]},\n",
    " {'fn': 'image_0218.png',\n",
    "  'objects': [[307, 90, 419, 182], [472, 81, 591, 135], [116, 295, 234, 360]]},\n",
    " {'fn': 'image_0218.png',\n",
    "  'objects': [[307, 90, 419, 182], [472, 81, 591, 135], [116, 295, 234, 360]]},\n",
    " {'fn': 'image_0224.png',\n",
    "  'objects': [[139, 273, 251, 362], [321, 97, 415, 153], [490, 67, 607, 144]]},\n",
    " {'fn': 'image_0224.png',\n",
    "  'objects': [[139, 273, 251, 362], [321, 97, 415, 153], [490, 67, 607, 144]]},\n",
    " {'fn': 'image_0224.png',\n",
    "  'objects': [[139, 273, 251, 362], [321, 97, 415, 153], [490, 67, 607, 144]]},\n",
    " {'fn': 'image_0230.png',\n",
    "  'objects': [[122, 259, 211, 365], [264, 79, 390, 145], [434, 73, 542, 151]]},\n",
    " {'fn': 'image_0230.png',\n",
    "  'objects': [[122, 259, 211, 365], [264, 79, 390, 145], [434, 73, 542, 151]]},\n",
    " {'fn': 'image_0230.png',\n",
    "  'objects': [[122, 259, 211, 365], [264, 79, 390, 145], [434, 73, 542, 151]]},\n",
    " {'fn': 'image_0231.png',\n",
    "  'objects': [[122, 273, 220, 366], [248, 74, 347, 153], [428, 75, 544, 157]]},\n",
    " {'fn': 'image_0231.png',\n",
    "  'objects': [[122, 273, 220, 366], [248, 74, 347, 153], [428, 75, 544, 157]]},\n",
    " {'fn': 'image_0231.png',\n",
    "  'objects': [[122, 273, 220, 366], [248, 74, 347, 153], [428, 75, 544, 157]]},\n",
    " {'fn': 'image_0225.png',\n",
    "  'objects': [[138, 254, 243, 361], [322, 81, 424, 152], [472, 79, 590, 139]]},\n",
    " {'fn': 'image_0225.png',\n",
    "  'objects': [[138, 254, 243, 361], [322, 81, 424, 152], [472, 79, 590, 139]]},\n",
    " {'fn': 'image_0225.png',\n",
    "  'objects': [[138, 254, 243, 361], [322, 81, 424, 152], [472, 79, 590, 139]]},\n",
    " {'fn': 'image_0219.png',\n",
    "  'objects': [[306, 90, 406, 185], [477, 64, 599, 138], [102, 290, 242, 358]]},\n",
    " {'fn': 'image_0219.png',\n",
    "  'objects': [[306, 90, 406, 185], [477, 64, 599, 138], [102, 290, 242, 358]]},\n",
    " {'fn': 'image_0219.png',\n",
    "  'objects': [[306, 90, 406, 185], [477, 64, 599, 138], [102, 290, 242, 358]]},\n",
    " {'fn': 'image_0033.png',\n",
    "  'objects': [[142, 278, 219, 351],\n",
    "   [538, 262, 618, 360],\n",
    "   [146, 81, 256, 142]]},\n",
    " {'fn': 'image_0033.png',\n",
    "  'objects': [[142, 278, 219, 351],\n",
    "   [538, 262, 618, 360],\n",
    "   [146, 81, 256, 142]]},\n",
    " {'fn': 'image_0033.png',\n",
    "  'objects': [[142, 278, 219, 351],\n",
    "   [538, 262, 618, 360],\n",
    "   [146, 81, 256, 142]]}]"
   ]
  },
  {
   "cell_type": "code",
   "execution_count": 3,
   "metadata": {},
   "outputs": [],
   "source": [
    "import json"
   ]
  },
  {
   "cell_type": "code",
   "execution_count": 6,
   "metadata": {},
   "outputs": [],
   "source": [
    "json.dump(annotations, open('../results/first_20.json','w'))"
   ]
  },
  {
   "cell_type": "code",
   "execution_count": null,
   "metadata": {},
   "outputs": [],
   "source": [
    "!con"
   ]
  },
  {
   "cell_type": "code",
   "execution_count": 8,
   "metadata": {},
   "outputs": [],
   "source": [
    "from os import listdir\n",
    "from numpy import zeros\n",
    "from numpy import asarray\n",
    "from mrcnn.utils import Dataset"
   ]
  },
  {
   "cell_type": "code",
   "execution_count": 9,
   "metadata": {},
   "outputs": [],
   "source": [
    "import os"
   ]
  },
  {
   "cell_type": "code",
   "execution_count": 12,
   "metadata": {},
   "outputs": [
    {
     "data": {
      "text/plain": [
       "'asdf'"
      ]
     },
     "execution_count": 12,
     "metadata": {},
     "output_type": "execute_result"
    }
   ],
   "source": [
    "os.path.splitext('asdf.jpg')[0]"
   ]
  },
  {
   "cell_type": "code",
   "execution_count": null,
   "metadata": {},
   "outputs": [],
   "source": [
    "# class that defines and loads the kangaroo dataset\n",
    "class MouseDataset(Dataset):\n",
    "    # load the dataset definitions\n",
    "    def load_dataset(self, dataset_dir, is_train=True):\n",
    "        # define one class\n",
    "        self.add_class(\"dataset\", 1, \"mouse\")\n",
    "        # define data locations\n",
    "        images_dir = os.path.join(dataset_dir,'/images/')\n",
    "        annotations_dir = dataset_dir + '/annotations/'\n",
    "        # find all images\n",
    "        for image_id, filename in enumarate(listdir(images_dir)):\n",
    "            # skip all images after 150 if we are building the train set\n",
    "            if is_train and int(image_id) >= 15:\n",
    "                continue\n",
    "            # skip all images before 150 if we are building the test/val set\n",
    "            if not is_train and int(image_id) < 15:\n",
    "                continue\n",
    "            img_path = images_dir + filename\n",
    "            ann_path = annotations_dir + image_id + '.xml'\n",
    "            # add to dataset\n",
    "            self.add_image('dataset', image_id=image_id, path=img_path, annotation=ann_path)\n",
    " \n",
    "    # extract bounding boxes from an annotation file\n",
    "    def extract_boxes(self, filename):\n",
    "        # load and parse the file\n",
    "        tree = ElementTree.parse(filename)\n",
    "        # get the root of the document\n",
    "        root = tree.getroot()\n",
    "        # extract each bounding box\n",
    "        boxes = list()\n",
    "        for box in root.findall('.//bndbox'):\n",
    "            xmin = int(box.find('xmin').text)\n",
    "            ymin = int(box.find('ymin').text)\n",
    "            xmax = int(box.find('xmax').text)\n",
    "            ymax = int(box.find('ymax').text)\n",
    "            coors = [xmin, ymin, xmax, ymax]\n",
    "            boxes.append(coors)\n",
    "        # extract image dimensions\n",
    "        width = int(root.find('.//size/width').text)\n",
    "        height = int(root.find('.//size/height').text)\n",
    "        return boxes, width, height\n",
    " \n",
    "    # load the masks for an image\n",
    "    def load_mask(self, image_id):\n",
    "        # get details of image\n",
    "        info = self.image_info[image_id]\n",
    "        # define box file location\n",
    "        path = info['annotation']\n",
    "        # load XML\n",
    "        boxes, w, h = self.extract_boxes(path)\n",
    "        # create one array for all masks, each on a different channel\n",
    "        masks = zeros([h, w, len(boxes)], dtype='uint8')\n",
    "        # create masks\n",
    "        class_ids = list()\n",
    "        for i in range(len(boxes)):\n",
    "            box = boxes[i]\n",
    "            row_s, row_e = box[1], box[3]\n",
    "            col_s, col_e = box[0], box[2]\n",
    "            masks[row_s:row_e, col_s:col_e, i] = 1\n",
    "            class_ids.append(self.class_names.index('kangaroo'))\n",
    "        return masks, asarray(class_ids, dtype='int32')\n",
    "\n",
    "    # load an image reference\n",
    "    def image_reference(self, image_id):\n",
    "        info = self.image_info[image_id]\n",
    "        return info['path']\n",
    " \n",
    "# train set\n",
    "train_set = KangarooDataset()\n",
    "train_set.load_dataset('kangaroo', is_train=True)\n",
    "train_set.prepare()\n",
    "print('Train: %d' % len(train_set.image_ids))\n",
    " \n",
    "# test/val set\n",
    "test_set = KangarooDataset()\n",
    "test_set.load_dataset('kangaroo', is_train=False)\n",
    "test_set.prepare()\n",
    "print('Test: %d' % len(test_set.image_ids))"
   ]
  },
  {
   "cell_type": "code",
   "execution_count": 15,
   "metadata": {},
   "outputs": [
    {
     "name": "stderr",
     "output_type": "stream",
     "text": [
      "Using TensorFlow backend.\n"
     ]
    }
   ],
   "source": [
    "from os import listdir\n",
    "from numpy import zeros\n",
    "from numpy import asarray\n",
    "from mrcnn.utils import Dataset\n",
    "from mrcnn.config import Config\n",
    "from mrcnn.model import MaskRCNN"
   ]
  },
  {
   "cell_type": "code",
   "execution_count": 16,
   "metadata": {},
   "outputs": [],
   "source": [
    "class KangarooConfig(Config):\n",
    "\t# Give the configuration a recognizable name\n",
    "\tNAME = \"kangaroo_cfg\"\n",
    "\t# Number of classes (background + kangaroo)\n",
    "\tNUM_CLASSES = 1 + 1\n",
    "\t# Number of training steps per epoch\n",
    "\tSTEPS_PER_EPOCH = 131\n",
    " \n",
    "# prepare config\n",
    "config = KangarooConfig()"
   ]
  },
  {
   "cell_type": "code",
   "execution_count": 19,
   "metadata": {},
   "outputs": [
    {
     "name": "stdout",
     "output_type": "stream",
     "text": [
      "WARNING:tensorflow:From /anaconda3/envs/pythonfornotyetpythonista/lib/python3.7/site-packages/tensorflow/python/framework/op_def_library.py:263: colocate_with (from tensorflow.python.framework.ops) is deprecated and will be removed in a future version.\n",
      "Instructions for updating:\n",
      "Colocations handled automatically by placer.\n"
     ]
    }
   ],
   "source": [
    "model = MaskRCNN(mode='training', model_dir='./', config=config)\n"
   ]
  },
  {
   "cell_type": "code",
   "execution_count": 20,
   "metadata": {},
   "outputs": [
    {
     "ename": "OSError",
     "evalue": "Unable to open file (unable to open file: name = 'mask_rcnn_coco.h5', errno = 2, error message = 'No such file or directory', flags = 0, o_flags = 0)",
     "output_type": "error",
     "traceback": [
      "\u001b[0;31m---------------------------------------------------------------------------\u001b[0m",
      "\u001b[0;31mOSError\u001b[0m                                   Traceback (most recent call last)",
      "\u001b[0;32m<ipython-input-20-81873f7e34a9>\u001b[0m in \u001b[0;36m<module>\u001b[0;34m\u001b[0m\n\u001b[0;32m----> 1\u001b[0;31m \u001b[0mmodel\u001b[0m\u001b[0;34m.\u001b[0m\u001b[0mload_weights\u001b[0m\u001b[0;34m(\u001b[0m\u001b[0;34m'mask_rcnn_coco.h5'\u001b[0m\u001b[0;34m,\u001b[0m \u001b[0mby_name\u001b[0m\u001b[0;34m=\u001b[0m\u001b[0;32mTrue\u001b[0m\u001b[0;34m,\u001b[0m \u001b[0mexclude\u001b[0m\u001b[0;34m=\u001b[0m\u001b[0;34m[\u001b[0m\u001b[0;34m\"mrcnn_class_logits\"\u001b[0m\u001b[0;34m,\u001b[0m \u001b[0;34m\"mrcnn_bbox_fc\"\u001b[0m\u001b[0;34m,\u001b[0m  \u001b[0;34m\"mrcnn_bbox\"\u001b[0m\u001b[0;34m,\u001b[0m \u001b[0;34m\"mrcnn_mask\"\u001b[0m\u001b[0;34m]\u001b[0m\u001b[0;34m)\u001b[0m\u001b[0;34m\u001b[0m\u001b[0;34m\u001b[0m\u001b[0m\n\u001b[0m",
      "\u001b[0;32m/anaconda3/envs/pythonfornotyetpythonista/lib/python3.7/site-packages/mask_rcnn-2.1-py3.7.egg/mrcnn/model.py\u001b[0m in \u001b[0;36mload_weights\u001b[0;34m(self, filepath, by_name, exclude)\u001b[0m\n\u001b[1;32m   2113\u001b[0m         \u001b[0;32mif\u001b[0m \u001b[0mh5py\u001b[0m \u001b[0;32mis\u001b[0m \u001b[0;32mNone\u001b[0m\u001b[0;34m:\u001b[0m\u001b[0;34m\u001b[0m\u001b[0;34m\u001b[0m\u001b[0m\n\u001b[1;32m   2114\u001b[0m             \u001b[0;32mraise\u001b[0m \u001b[0mImportError\u001b[0m\u001b[0;34m(\u001b[0m\u001b[0;34m'`load_weights` requires h5py.'\u001b[0m\u001b[0;34m)\u001b[0m\u001b[0;34m\u001b[0m\u001b[0;34m\u001b[0m\u001b[0m\n\u001b[0;32m-> 2115\u001b[0;31m         \u001b[0mf\u001b[0m \u001b[0;34m=\u001b[0m \u001b[0mh5py\u001b[0m\u001b[0;34m.\u001b[0m\u001b[0mFile\u001b[0m\u001b[0;34m(\u001b[0m\u001b[0mfilepath\u001b[0m\u001b[0;34m,\u001b[0m \u001b[0mmode\u001b[0m\u001b[0;34m=\u001b[0m\u001b[0;34m'r'\u001b[0m\u001b[0;34m)\u001b[0m\u001b[0;34m\u001b[0m\u001b[0;34m\u001b[0m\u001b[0m\n\u001b[0m\u001b[1;32m   2116\u001b[0m         \u001b[0;32mif\u001b[0m \u001b[0;34m'layer_names'\u001b[0m \u001b[0;32mnot\u001b[0m \u001b[0;32min\u001b[0m \u001b[0mf\u001b[0m\u001b[0;34m.\u001b[0m\u001b[0mattrs\u001b[0m \u001b[0;32mand\u001b[0m \u001b[0;34m'model_weights'\u001b[0m \u001b[0;32min\u001b[0m \u001b[0mf\u001b[0m\u001b[0;34m:\u001b[0m\u001b[0;34m\u001b[0m\u001b[0;34m\u001b[0m\u001b[0m\n\u001b[1;32m   2117\u001b[0m             \u001b[0mf\u001b[0m \u001b[0;34m=\u001b[0m \u001b[0mf\u001b[0m\u001b[0;34m[\u001b[0m\u001b[0;34m'model_weights'\u001b[0m\u001b[0;34m]\u001b[0m\u001b[0;34m\u001b[0m\u001b[0;34m\u001b[0m\u001b[0m\n",
      "\u001b[0;32m/anaconda3/envs/pythonfornotyetpythonista/lib/python3.7/site-packages/h5py/_hl/files.py\u001b[0m in \u001b[0;36m__init__\u001b[0;34m(self, name, mode, driver, libver, userblock_size, swmr, rdcc_nslots, rdcc_nbytes, rdcc_w0, track_order, **kwds)\u001b[0m\n\u001b[1;32m    406\u001b[0m                 fid = make_fid(name, mode, userblock_size,\n\u001b[1;32m    407\u001b[0m                                \u001b[0mfapl\u001b[0m\u001b[0;34m,\u001b[0m \u001b[0mfcpl\u001b[0m\u001b[0;34m=\u001b[0m\u001b[0mmake_fcpl\u001b[0m\u001b[0;34m(\u001b[0m\u001b[0mtrack_order\u001b[0m\u001b[0;34m=\u001b[0m\u001b[0mtrack_order\u001b[0m\u001b[0;34m)\u001b[0m\u001b[0;34m,\u001b[0m\u001b[0;34m\u001b[0m\u001b[0;34m\u001b[0m\u001b[0m\n\u001b[0;32m--> 408\u001b[0;31m                                swmr=swmr)\n\u001b[0m\u001b[1;32m    409\u001b[0m \u001b[0;34m\u001b[0m\u001b[0m\n\u001b[1;32m    410\u001b[0m             \u001b[0;32mif\u001b[0m \u001b[0misinstance\u001b[0m\u001b[0;34m(\u001b[0m\u001b[0mlibver\u001b[0m\u001b[0;34m,\u001b[0m \u001b[0mtuple\u001b[0m\u001b[0;34m)\u001b[0m\u001b[0;34m:\u001b[0m\u001b[0;34m\u001b[0m\u001b[0;34m\u001b[0m\u001b[0m\n",
      "\u001b[0;32m/anaconda3/envs/pythonfornotyetpythonista/lib/python3.7/site-packages/h5py/_hl/files.py\u001b[0m in \u001b[0;36mmake_fid\u001b[0;34m(name, mode, userblock_size, fapl, fcpl, swmr)\u001b[0m\n\u001b[1;32m    171\u001b[0m         \u001b[0;32mif\u001b[0m \u001b[0mswmr\u001b[0m \u001b[0;32mand\u001b[0m \u001b[0mswmr_support\u001b[0m\u001b[0;34m:\u001b[0m\u001b[0;34m\u001b[0m\u001b[0;34m\u001b[0m\u001b[0m\n\u001b[1;32m    172\u001b[0m             \u001b[0mflags\u001b[0m \u001b[0;34m|=\u001b[0m \u001b[0mh5f\u001b[0m\u001b[0;34m.\u001b[0m\u001b[0mACC_SWMR_READ\u001b[0m\u001b[0;34m\u001b[0m\u001b[0;34m\u001b[0m\u001b[0m\n\u001b[0;32m--> 173\u001b[0;31m         \u001b[0mfid\u001b[0m \u001b[0;34m=\u001b[0m \u001b[0mh5f\u001b[0m\u001b[0;34m.\u001b[0m\u001b[0mopen\u001b[0m\u001b[0;34m(\u001b[0m\u001b[0mname\u001b[0m\u001b[0;34m,\u001b[0m \u001b[0mflags\u001b[0m\u001b[0;34m,\u001b[0m \u001b[0mfapl\u001b[0m\u001b[0;34m=\u001b[0m\u001b[0mfapl\u001b[0m\u001b[0;34m)\u001b[0m\u001b[0;34m\u001b[0m\u001b[0;34m\u001b[0m\u001b[0m\n\u001b[0m\u001b[1;32m    174\u001b[0m     \u001b[0;32melif\u001b[0m \u001b[0mmode\u001b[0m \u001b[0;34m==\u001b[0m \u001b[0;34m'r+'\u001b[0m\u001b[0;34m:\u001b[0m\u001b[0;34m\u001b[0m\u001b[0;34m\u001b[0m\u001b[0m\n\u001b[1;32m    175\u001b[0m         \u001b[0mfid\u001b[0m \u001b[0;34m=\u001b[0m \u001b[0mh5f\u001b[0m\u001b[0;34m.\u001b[0m\u001b[0mopen\u001b[0m\u001b[0;34m(\u001b[0m\u001b[0mname\u001b[0m\u001b[0;34m,\u001b[0m \u001b[0mh5f\u001b[0m\u001b[0;34m.\u001b[0m\u001b[0mACC_RDWR\u001b[0m\u001b[0;34m,\u001b[0m \u001b[0mfapl\u001b[0m\u001b[0;34m=\u001b[0m\u001b[0mfapl\u001b[0m\u001b[0;34m)\u001b[0m\u001b[0;34m\u001b[0m\u001b[0;34m\u001b[0m\u001b[0m\n",
      "\u001b[0;32mh5py/_objects.pyx\u001b[0m in \u001b[0;36mh5py._objects.with_phil.wrapper\u001b[0;34m()\u001b[0m\n",
      "\u001b[0;32mh5py/_objects.pyx\u001b[0m in \u001b[0;36mh5py._objects.with_phil.wrapper\u001b[0;34m()\u001b[0m\n",
      "\u001b[0;32mh5py/h5f.pyx\u001b[0m in \u001b[0;36mh5py.h5f.open\u001b[0;34m()\u001b[0m\n",
      "\u001b[0;31mOSError\u001b[0m: Unable to open file (unable to open file: name = 'mask_rcnn_coco.h5', errno = 2, error message = 'No such file or directory', flags = 0, o_flags = 0)"
     ]
    }
   ],
   "source": [
    "model.load_weights('mask_rcnn_coco.h5', by_name=True, exclude=[\"mrcnn_class_logits\", \"mrcnn_bbox_fc\",  \"mrcnn_bbox\", \"mrcnn_mask\"])"
   ]
  },
  {
   "cell_type": "code",
   "execution_count": null,
   "metadata": {},
   "outputs": [],
   "source": []
  }
 ],
 "metadata": {
  "kernelspec": {
   "display_name": "Python 3",
   "language": "python",
   "name": "python3"
  },
  "language_info": {
   "codemirror_mode": {
    "name": "ipython",
    "version": 3
   },
   "file_extension": ".py",
   "mimetype": "text/x-python",
   "name": "python",
   "nbconvert_exporter": "python",
   "pygments_lexer": "ipython3",
   "version": "3.7.3"
  }
 },
 "nbformat": 4,
 "nbformat_minor": 4
}
