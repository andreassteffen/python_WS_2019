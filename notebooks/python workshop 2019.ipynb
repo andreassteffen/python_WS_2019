{
 "cells": [
  {
   "cell_type": "markdown",
   "metadata": {
    "slideshow": {
     "slide_type": "slide"
    }
   },
   "source": [
    "# Python workshop 2019 in Wuppertal\n",
    "a practitioners digest"
   ]
  },
  {
   "cell_type": "code",
   "execution_count": null,
   "metadata": {
    "jupyter": {
     "outputs_hidden": false
    },
    "slideshow": {
     "slide_type": "slide"
    }
   },
   "outputs": [],
   "source": [
    "from IPython.display import Image\n",
    "Image(filename='../data/images/guido_cartoon.jpg')"
   ]
  },
  {
   "cell_type": "code",
   "execution_count": null,
   "metadata": {
    "jupyter": {
     "outputs_hidden": false
    },
    "slideshow": {
     "slide_type": "subslide"
    }
   },
   "outputs": [],
   "source": [
    "Image(filename='../data/images/guido_van_rossum.png')"
   ]
  },
  {
   "cell_type": "markdown",
   "metadata": {
    "slideshow": {
     "slide_type": "slide"
    }
   },
   "source": [
    "# ...his master's voice..."
   ]
  },
  {
   "cell_type": "code",
   "execution_count": null,
   "metadata": {
    "jupyter": {
     "outputs_hidden": false
    },
    "slideshow": {
     "slide_type": "fragment"
    }
   },
   "outputs": [],
   "source": [
    "from IPython.display import YouTubeVideo\n",
    "YouTubeVideo('EBRMq2Ioxsc', width = 800, height = 600)"
   ]
  },
  {
   "cell_type": "markdown",
   "metadata": {},
   "source": [
    "# You are just one of many other pythonistas...."
   ]
  },
  {
   "cell_type": "code",
   "execution_count": null,
   "metadata": {
    "jupyter": {
     "outputs_hidden": false
    }
   },
   "outputs": [],
   "source": [
    "Image('../data/images/pypl_2019.png')"
   ]
  },
  {
   "cell_type": "markdown",
   "metadata": {
    "slideshow": {
     "slide_type": "slide"
    }
   },
   "source": [
    "# Agenda\n",
    "* background\n",
    "    * history\n",
    "    * the zen of python\n",
    "    * python easter eggs\n",
    "* the basics\n",
    "    * practical coding tips\n",
    "    * hello world!\n",
    "    * numerical datatypes\n",
    "    * containers\n",
    "    * control flow\n",
    "    * functions"
   ]
  },
  {
   "cell_type": "markdown",
   "metadata": {},
   "source": [
    "* python for data scientists \n",
    "    * data massage using pandas\n",
    "    * simple plotting using seaborn\n",
    "* your python future\n",
    "    * where to go from here?\n",
    "    * useful ressources"
   ]
  },
  {
   "cell_type": "markdown",
   "metadata": {
    "slideshow": {
     "slide_type": "slide"
    }
   },
   "source": [
    "# history\n",
    "* started late 1980s based on [ABC](http://homepages.cwi.nl/~steven/abc/) by Guido van Rossum @ __Centrum Wiskunde & Informatica__\n",
    "    * nesting by indentation\n",
    "    * module system\n",
    "* code made public in 1991\n",
    "* python 1.0 released in 1994\n",
    "    * inclusion of functional programming commands *lambda, map, filter and reduce*\n",
    "* python 2.0 released in 2000\n",
    "    * full garbage collector\n",
    "    * list comprehensions\n",
    "    * unicode support (but problematic)"
   ]
  },
  {
   "cell_type": "markdown",
   "metadata": {},
   "source": [
    "* Python 2.6 released in 2008\n",
    "    * main python version of scientific linux distribution\n",
    "* python 3.0 released in 2008\n",
    "    * complete redesign to remove fundamental flaws\n",
    "        * *reduce feature duplication by removing old ways of doing things*\n",
    "    * no backwards compatibility\n",
    "    * print becomes a built-in function not a statement\n",
    "        * print \"hello world!\" vs print(\"hello world!\")\n",
    "    * unicode!\n",
    "* python 2.7 released in 2010\n",
    "    * the python version till 2020, which will coexist with python 3.0\n",
    "* current version is 3.7\n",
    "* python version 4 comes after 3.9 (according to Guido)\n",
    "* suggested reading [python history blog](http://python-history.blogspot.co.at)"
   ]
  },
  {
   "cell_type": "markdown",
   "metadata": {
    "slideshow": {
     "slide_type": "slide"
    }
   },
   "source": [
    "# the zen of python"
   ]
  },
  {
   "cell_type": "code",
   "execution_count": null,
   "metadata": {
    "jupyter": {
     "outputs_hidden": false
    },
    "slideshow": {
     "slide_type": "fragment"
    }
   },
   "outputs": [],
   "source": [
    "import this"
   ]
  },
  {
   "cell_type": "code",
   "execution_count": null,
   "metadata": {},
   "outputs": [],
   "source": [
    "print(this.s)"
   ]
  },
  {
   "cell_type": "markdown",
   "metadata": {
    "slideshow": {
     "slide_type": "slide"
    }
   },
   "source": [
    "# python easter eggs"
   ]
  },
  {
   "cell_type": "code",
   "execution_count": null,
   "metadata": {
    "jupyter": {
     "outputs_hidden": false
    },
    "slideshow": {
     "slide_type": "fragment"
    }
   },
   "outputs": [],
   "source": [
    "import antigravity\n",
    "Image(url='http://imgs.xkcd.com/comics/python.png')"
   ]
  },
  {
   "cell_type": "code",
   "execution_count": null,
   "metadata": {
    "jupyter": {
     "outputs_hidden": false
    },
    "slideshow": {
     "slide_type": "fragment"
    }
   },
   "outputs": [],
   "source": [
    "import __hello__"
   ]
  },
  {
   "cell_type": "markdown",
   "metadata": {
    "slideshow": {
     "slide_type": "slide"
    }
   },
   "source": [
    "# Practical coding tips\n",
    "* some useful tips [python style guide](http://legacy.python.org/dev/peps/pep-0008/#programming-recommendations)\n",
    "* coding\n",
    "    * interactive computing in ipython or jupyter lab\n",
    "    * for programs develop in sublime text or pycharm\n",
    "    * set tab to 4 spaces\n",
    "* spelling\n",
    "    * no camel case, better: get_gene_expression_data()\n",
    "    * variables spelled small\n",
    "    * classes capital letter\n",
    "    * globals large letters\n",
    "* modules\n",
    "    * avoid: from xyz import \\*\n",
    "    * better: import pandas as pd\n",
    "    * __or__ *from os import getcwd*"
   ]
  },
  {
   "cell_type": "markdown",
   "metadata": {
    "slideshow": {
     "slide_type": "slide"
    }
   },
   "source": [
    "# hello world!"
   ]
  },
  {
   "cell_type": "code",
   "execution_count": null,
   "metadata": {
    "jupyter": {
     "outputs_hidden": false
    },
    "slideshow": {
     "slide_type": "fragment"
    }
   },
   "outputs": [],
   "source": [
    "print (\"hello world!\")"
   ]
  },
  {
   "cell_type": "markdown",
   "metadata": {},
   "source": [
    "# Navigating in jupyter"
   ]
  },
  {
   "cell_type": "markdown",
   "metadata": {},
   "source": [
    "* use the menu\n",
    "* use CTRL+m followed by __a__ to add a cell above\n",
    "* use CTRL+m followed by __b__ to add a cell above\n",
    "* shift+enter to execute a cell\n",
    "* CTRL+m followed by __x__ to delete a cell\n",
    "* shift + mouse click to mark multiple cells\n",
    "* shift+m to merge marked cells\n",
    "* CTRL+m followd by __m__ convert to markdown\n",
    "* CTRL+m followd by __y__ convert to code\n",
    "* function () SHIFT TAB TAB"
   ]
  },
  {
   "cell_type": "markdown",
   "metadata": {
    "slideshow": {
     "slide_type": "slide"
    }
   },
   "source": [
    "# Numerical datatypes"
   ]
  },
  {
   "cell_type": "markdown",
   "metadata": {
    "jupyter": {
     "outputs_hidden": false
    },
    "slideshow": {
     "slide_type": "fragment"
    }
   },
   "source": [
    "# numbers"
   ]
  },
  {
   "cell_type": "code",
   "execution_count": null,
   "metadata": {},
   "outputs": [],
   "source": [
    "a = 1\n",
    "type(a)"
   ]
  },
  {
   "cell_type": "code",
   "execution_count": null,
   "metadata": {
    "jupyter": {
     "outputs_hidden": false
    },
    "slideshow": {
     "slide_type": "fragment"
    }
   },
   "outputs": [],
   "source": [
    "# float\n",
    "b = 1.00\n",
    "type(b)"
   ]
  },
  {
   "cell_type": "code",
   "execution_count": null,
   "metadata": {
    "jupyter": {
     "outputs_hidden": false
    },
    "slideshow": {
     "slide_type": "fragment"
    }
   },
   "outputs": [],
   "source": [
    "# complex number\n",
    "c = 1.00 + 0.001j\n",
    "type(c)"
   ]
  },
  {
   "cell_type": "code",
   "execution_count": null,
   "metadata": {
    "jupyter": {
     "outputs_hidden": false
    },
    "slideshow": {
     "slide_type": "fragment"
    }
   },
   "outputs": [],
   "source": [
    "# boolean\n",
    "a > b"
   ]
  },
  {
   "cell_type": "code",
   "execution_count": null,
   "metadata": {
    "jupyter": {
     "outputs_hidden": false
    },
    "slideshow": {
     "slide_type": "fragment"
    }
   },
   "outputs": [],
   "source": [
    "# type casting\n",
    "print(float(a))"
   ]
  },
  {
   "cell_type": "code",
   "execution_count": null,
   "metadata": {},
   "outputs": [],
   "source": [
    "print(1/2)"
   ]
  },
  {
   "cell_type": "markdown",
   "metadata": {},
   "source": [
    "# Strings"
   ]
  },
  {
   "cell_type": "code",
   "execution_count": null,
   "metadata": {},
   "outputs": [],
   "source": [
    "funny_sentence = \"Alright, but apart from the sanitation, the medicine, education, wine, public order, irrigation, roads, the fresh-water system, and public health, what have the Romans ever done for us?\"\n",
    "print(funny_sentence)"
   ]
  },
  {
   "cell_type": "code",
   "execution_count": null,
   "metadata": {},
   "outputs": [],
   "source": [
    "# reverse\n",
    "print(funny_sentence[::-1])"
   ]
  },
  {
   "cell_type": "code",
   "execution_count": null,
   "metadata": {},
   "outputs": [],
   "source": [
    "# slice\n",
    "print(funny_sentence[9:18])"
   ]
  },
  {
   "cell_type": "code",
   "execution_count": null,
   "metadata": {},
   "outputs": [],
   "source": [
    "# every other char\n",
    "print(funny_sentence[::2])"
   ]
  },
  {
   "cell_type": "code",
   "execution_count": null,
   "metadata": {},
   "outputs": [],
   "source": [
    "# get index\n",
    "print(funny_sentence.index('Romans')) # first hit\n",
    "print(funny_sentence.find('the')) # first from left\n",
    "print(funny_sentence.rfind('the')) # first from right"
   ]
  },
  {
   "cell_type": "code",
   "execution_count": null,
   "metadata": {},
   "outputs": [],
   "source": [
    "# get all indices\n",
    "import re\n",
    "[m.start() for m in re.finditer('the', funny_sentence) ]"
   ]
  },
  {
   "cell_type": "code",
   "execution_count": null,
   "metadata": {},
   "outputs": [],
   "source": [
    "# replace\n",
    "print(funny_sentence.replace('Romans','Germans').replace('us','human'))"
   ]
  },
  {
   "cell_type": "code",
   "execution_count": null,
   "metadata": {},
   "outputs": [],
   "source": [
    "# operators\n",
    "print(\"you\"+\" code\")\n",
    "print(2*\"twice \")"
   ]
  },
  {
   "cell_type": "code",
   "execution_count": null,
   "metadata": {},
   "outputs": [],
   "source": [
    "# split a string\n",
    "tmp = 'monty python is not funny'.split(' ')\n",
    "print(tmp)"
   ]
  },
  {
   "cell_type": "code",
   "execution_count": null,
   "metadata": {},
   "outputs": [],
   "source": [
    "# join multiple strings in list\n",
    "print('...'.join(tmp))\n",
    "print('\\n'.join(tmp))"
   ]
  },
  {
   "cell_type": "code",
   "execution_count": null,
   "metadata": {},
   "outputs": [],
   "source": [
    "# formatting\n",
    "print(\"%s\\t%s\" % ('Andreas', 'Steffen'))\n",
    "data = {\"first_name\":'Andreas', \"last_name\":'Steffen', 'employment': 4.5, 'cwid': 'ggayq'}\n",
    "s = \"first_name: {first_name} last_name: {last_name}, employed since {employment:0.2f} years\".format_map(data)\n",
    "print(s)"
   ]
  },
  {
   "cell_type": "code",
   "execution_count": null,
   "metadata": {},
   "outputs": [],
   "source": [
    "# formatting new\n",
    "first_name='Andreas'\n",
    "last_name='Steffen'\n",
    "print(f'{first_name} {last_name}')"
   ]
  },
  {
   "cell_type": "markdown",
   "metadata": {
    "slideshow": {
     "slide_type": "slide"
    }
   },
   "source": [
    "# Container"
   ]
  },
  {
   "cell_type": "markdown",
   "metadata": {},
   "source": [
    "## List"
   ]
  },
  {
   "cell_type": "code",
   "execution_count": null,
   "metadata": {},
   "outputs": [],
   "source": [
    "a = [1,2,3,4,'test', [1,2,3,4], {'test':1, 'test2': 3}] # you can mix types, have containers in containers"
   ]
  },
  {
   "cell_type": "code",
   "execution_count": null,
   "metadata": {},
   "outputs": [],
   "source": [
    "# indexing and slicing\n",
    "print(a[6],a[1:4])\n",
    "\n",
    "# get index\n",
    "print(a.index(1))"
   ]
  },
  {
   "cell_type": "code",
   "execution_count": null,
   "metadata": {},
   "outputs": [],
   "source": [
    "# change element\n",
    "a[6]='no more dict'\n",
    "print(a)"
   ]
  },
  {
   "cell_type": "code",
   "execution_count": null,
   "metadata": {},
   "outputs": [],
   "source": [
    "# sorting\n",
    "a = [3,4,1,2]\n",
    "print(sorted(a))\n",
    "print(a)\n",
    "a.sort()\n",
    "print(a)"
   ]
  },
  {
   "cell_type": "code",
   "execution_count": null,
   "metadata": {},
   "outputs": [],
   "source": [
    "# operators\n",
    "print(10*a)\n",
    "print(a+['TEST','test','TeSt'])"
   ]
  },
  {
   "cell_type": "code",
   "execution_count": null,
   "metadata": {},
   "outputs": [],
   "source": [
    "# append to a list\n",
    "a.append(121)\n",
    "print(a)"
   ]
  },
  {
   "cell_type": "code",
   "execution_count": null,
   "metadata": {},
   "outputs": [],
   "source": [
    "# extend a list with multiple elements\n",
    "a.extend([101,102,103,104,105,106,107,108,109])\n",
    "print(a)"
   ]
  },
  {
   "cell_type": "code",
   "execution_count": null,
   "metadata": {},
   "outputs": [],
   "source": [
    "# make list unique\n",
    "a=list(set(a))\n",
    "print(a)"
   ]
  },
  {
   "cell_type": "markdown",
   "metadata": {},
   "source": [
    "## dictionary"
   ]
  },
  {
   "cell_type": "code",
   "execution_count": null,
   "metadata": {},
   "outputs": [],
   "source": [
    "# initialize\n",
    "my_dict = {} \n",
    "my_dict = dict()\n",
    "my_dict = {'test0': 0, 'test1': 1}\n",
    "print(my_dict)"
   ]
  },
  {
   "cell_type": "code",
   "execution_count": null,
   "metadata": {},
   "outputs": [],
   "source": [
    "# assign values\n",
    "my_dict['test2'] = 2\n",
    "my_dict['test3'] = 3\n",
    "print(my_dict)"
   ]
  },
  {
   "cell_type": "code",
   "execution_count": null,
   "metadata": {},
   "outputs": [],
   "source": [
    "# keys\n",
    "print(my_dict.keys())\n",
    "\n",
    "# values\n",
    "print(my_dict.values())\n",
    "\n",
    "# items\n",
    "print(my_dict.items())"
   ]
  },
  {
   "cell_type": "code",
   "execution_count": null,
   "metadata": {},
   "outputs": [],
   "source": [
    "# set default value, e.g. list\n",
    "my_dict.setdefault(1,[]).append('oh oh oh!')\n",
    "my_dict.setdefault(1,[]).append('oh oh oh!')\n",
    "print(my_dict)"
   ]
  },
  {
   "cell_type": "code",
   "execution_count": null,
   "metadata": {},
   "outputs": [],
   "source": [
    "# check for key\n",
    "print('test1' in my_dict)\n",
    "print('test42' in my_dict)"
   ]
  },
  {
   "cell_type": "code",
   "execution_count": null,
   "metadata": {},
   "outputs": [],
   "source": [
    "# advanced\n",
    "keys = ['Andreas', 'Stefan', 'Werner']\n",
    "values = ['Steffen', 'Oelrich', 'Baumann']\n",
    "zipped = list(zip(keys, values))\n",
    "print(zipped)\n",
    "my_dict = dict(zipped)\n",
    "print(my_dict)"
   ]
  },
  {
   "cell_type": "markdown",
   "metadata": {},
   "source": [
    "## set"
   ]
  },
  {
   "cell_type": "code",
   "execution_count": null,
   "metadata": {},
   "outputs": [],
   "source": [
    "# initialize\n",
    "a = set()\n",
    "print(a)"
   ]
  },
  {
   "cell_type": "code",
   "execution_count": null,
   "metadata": {},
   "outputs": [],
   "source": [
    "# add\n",
    "a.add(1)\n",
    "print(a)"
   ]
  },
  {
   "cell_type": "code",
   "execution_count": null,
   "metadata": {},
   "outputs": [],
   "source": [
    "# add multiple\n",
    "a.update([1,2,3,4,5,6])\n",
    "print(a)"
   ]
  },
  {
   "cell_type": "code",
   "execution_count": null,
   "metadata": {},
   "outputs": [],
   "source": [
    "# check whether in\n",
    "print(1 in a)"
   ]
  },
  {
   "cell_type": "code",
   "execution_count": null,
   "metadata": {},
   "outputs": [],
   "source": [
    "# intersection\n",
    "b = set([4,5,6,7,8])\n",
    "print(\"intersection\", a.intersection(b))\n",
    "# difference\n",
    "print(\"difference\", a.difference(b))\n",
    "# union\n",
    "print(\"union\", a.union(b))"
   ]
  },
  {
   "cell_type": "markdown",
   "metadata": {},
   "source": [
    "# control flow"
   ]
  },
  {
   "cell_type": "code",
   "execution_count": null,
   "metadata": {
    "jupyter": {
     "outputs_hidden": false
    },
    "slideshow": {
     "slide_type": "slide"
    }
   },
   "outputs": [],
   "source": [
    "# if/then/else\n",
    "a=True\n",
    "if a==True:\n",
    "    print('expected behaviour')\n",
    "else:\n",
    "    print('lucked out')"
   ]
  },
  {
   "cell_type": "code",
   "execution_count": null,
   "metadata": {},
   "outputs": [],
   "source": [
    "# short if then form\n",
    "1 if a==True else 2"
   ]
  },
  {
   "cell_type": "code",
   "execution_count": null,
   "metadata": {},
   "outputs": [],
   "source": [
    "# for loop range\n",
    "for i in range(5,11):\n",
    "    if not(i%2):\n",
    "        print(i)"
   ]
  },
  {
   "cell_type": "code",
   "execution_count": null,
   "metadata": {},
   "outputs": [],
   "source": [
    "# for loop list\n",
    "monty_food = ['ham', 'spam', 'eggs']\n",
    "for food in monty_food:\n",
    "    print(food)"
   ]
  },
  {
   "cell_type": "code",
   "execution_count": null,
   "metadata": {},
   "outputs": [],
   "source": [
    "# for loop break\n",
    "for food in monty_food:\n",
    "    print(food)\n",
    "    if food=='spam':\n",
    "        print('need to take a break')\n",
    "        break"
   ]
  },
  {
   "cell_type": "code",
   "execution_count": null,
   "metadata": {},
   "outputs": [],
   "source": [
    "for id, food in enumerate(monty_food):\n",
    "    print(food, id)"
   ]
  },
  {
   "cell_type": "code",
   "execution_count": null,
   "metadata": {},
   "outputs": [],
   "source": [
    "# dictionary looping\n",
    "for key in my_dict:\n",
    "    print(key, my_dict[key])"
   ]
  },
  {
   "cell_type": "code",
   "execution_count": null,
   "metadata": {
    "jupyter": {
     "outputs_hidden": false
    },
    "slideshow": {
     "slide_type": "slide"
    }
   },
   "outputs": [],
   "source": [
    "last_names = [my_dict[key] for key in my_dict]\n",
    "print(last_names)"
   ]
  },
  {
   "cell_type": "markdown",
   "metadata": {},
   "source": [
    "# Functions"
   ]
  },
  {
   "cell_type": "code",
   "execution_count": null,
   "metadata": {
    "jupyter": {
     "outputs_hidden": false
    }
   },
   "outputs": [],
   "source": [
    "# definitions\n",
    "import random\n",
    "def my_favorite_n_superheros(n=3):\n",
    "    superheros = ['Hulk','Batman','Green Latern','Superman','Wonder woman','Captain America','Ant-man','Spiderman']\n",
    "    return random.sample(superheros,n)"
   ]
  },
  {
   "cell_type": "code",
   "execution_count": null,
   "metadata": {},
   "outputs": [],
   "source": [
    "print(my_favorite_n_superheros())\n",
    "print(my_favorite_n_superheros(1))"
   ]
  },
  {
   "cell_type": "markdown",
   "metadata": {},
   "source": [
    "# Some simple pandas"
   ]
  },
  {
   "cell_type": "code",
   "execution_count": null,
   "metadata": {},
   "outputs": [],
   "source": [
    "import pandas as pd\n",
    "import random"
   ]
  },
  {
   "cell_type": "code",
   "execution_count": null,
   "metadata": {},
   "outputs": [],
   "source": [
    "# generate dataframe\n",
    "df = pd.DataFrame(columns = ['col1','col2','col3'], data = [[1,'eins','one'],[2,'zwei','two'],[3,'drei','three'],[4,'vier','four'],[5,'fünf','five'],[6,'sechs','six'],[7,'sieben','seven']])\n",
    "df.head(4)"
   ]
  },
  {
   "cell_type": "code",
   "execution_count": null,
   "metadata": {},
   "outputs": [],
   "source": [
    "#dimension\n",
    "df.shape"
   ]
  },
  {
   "cell_type": "code",
   "execution_count": null,
   "metadata": {},
   "outputs": [],
   "source": [
    "# set index\n",
    "df = df.set_index('col3')"
   ]
  },
  {
   "cell_type": "code",
   "execution_count": null,
   "metadata": {},
   "outputs": [],
   "source": [
    "# rename columns\n",
    "df = df.rename(columns = {'col1': 'NumBer', 'col2':'written In gerMan'})\n",
    "df"
   ]
  },
  {
   "cell_type": "code",
   "execution_count": null,
   "metadata": {},
   "outputs": [],
   "source": [
    "df.columns = [col.replace(' ','_').lower() for col in df.columns]\n",
    "df.index.name='written_in_english'\n",
    "df"
   ]
  },
  {
   "cell_type": "code",
   "execution_count": null,
   "metadata": {},
   "outputs": [],
   "source": [
    "# generate dataframe\n",
    "df_2 = pd.DataFrame(columns = ['written_in_english','written_in_french'], data = [['one','un'],['two','deux'],['three','trois']])\n",
    "df_2.head()"
   ]
  },
  {
   "cell_type": "code",
   "execution_count": null,
   "metadata": {},
   "outputs": [],
   "source": [
    "# join the dataframes\n",
    "df_joined = df.join(df_2.set_index('written_in_english'))\n",
    "df_joined"
   ]
  },
  {
   "cell_type": "code",
   "execution_count": null,
   "metadata": {},
   "outputs": [],
   "source": [
    "# remove rows with NaN\n",
    "df_joined = df_joined.dropna()"
   ]
  },
  {
   "cell_type": "code",
   "execution_count": null,
   "metadata": {},
   "outputs": [],
   "source": [
    "# reset the index\n",
    "df_joined = df_joined.reset_index()\n",
    "df_joined"
   ]
  },
  {
   "cell_type": "code",
   "execution_count": null,
   "metadata": {},
   "outputs": [],
   "source": [
    "# slice\n",
    "df_joined.loc[[0,2],['number','written_in_german']]"
   ]
  },
  {
   "cell_type": "code",
   "execution_count": null,
   "metadata": {},
   "outputs": [],
   "source": [
    "# set new index\n",
    "df_joined = df_joined.set_index('written_in_french')\n",
    "df_joined"
   ]
  },
  {
   "cell_type": "code",
   "execution_count": null,
   "metadata": {},
   "outputs": [],
   "source": [
    "# generate dict\n",
    "df_joined.loc[['un','trois'],:].to_dict()"
   ]
  },
  {
   "cell_type": "markdown",
   "metadata": {},
   "source": [
    "# And now  let's do data science\n",
    "\n",
    "Below we illustrate the essentials of a exploratory data science workflow. We walk you through from loading data into dataframes, manipulating data frames and visualizing results"
   ]
  },
  {
   "cell_type": "code",
   "execution_count": null,
   "metadata": {},
   "outputs": [],
   "source": [
    "import pandas as pd\n",
    "%pylab inline"
   ]
  },
  {
   "cell_type": "markdown",
   "metadata": {},
   "source": [
    "Download the relevant data using the command `wget` (which is not a python function but actually a bash command)."
   ]
  },
  {
   "cell_type": "code",
   "execution_count": null,
   "metadata": {},
   "outputs": [],
   "source": [
    "!wget https://ndownloader.figshare.com/files/16757723 -O ../data/sample_info.csv\n",
    "!wget https://ndownloader.figshare.com/files/16757702 -O ../data/mutation.csv\n",
    "!wget https://ndownloader.figshare.com/files/16757690 -O ../data/expression.csv"
   ]
  },
  {
   "cell_type": "code",
   "execution_count": null,
   "metadata": {},
   "outputs": [],
   "source": [
    "# Read Expression data into a pandas dataframe and set the first column as index\n",
    "df_e = pd.read_csv(\"../data/expression.csv\", index_col=0)"
   ]
  },
  {
   "cell_type": "code",
   "execution_count": null,
   "metadata": {},
   "outputs": [],
   "source": [
    "# Show the first 10 rows of the expression data frame\n",
    "df_e.head(10)"
   ]
  },
  {
   "cell_type": "markdown",
   "metadata": {},
   "source": [
    "In order to support our analysis below, we will manipulate the gene names which each correspond to a column. \n",
    "\n",
    "As an example we want to do the following subsitution:\n",
    "\n",
    "> TSPAN6 (7105) --> TSPAN6"
   ]
  },
  {
   "cell_type": "code",
   "execution_count": null,
   "metadata": {},
   "outputs": [],
   "source": [
    "columns = df_e.columns # get all column names\n",
    "# use a list comprehesion to iterate over all column names and\n",
    "# split each string at whitespaces it contains. We will use the left-most\n",
    "# split sub-string (which is left of the first white space)\n",
    "columns_ = [c.split(\" \")[0] for c in columns] \n",
    "df_e.columns = columns_ # replace old column names by our substituted\n",
    "df_e.head()"
   ]
  },
  {
   "cell_type": "code",
   "execution_count": null,
   "metadata": {},
   "outputs": [],
   "source": [
    "# Now let us read the mutation data but only load specific columns required for our analysis,\n",
    "# namely \"Variant_Classification\", \"DepMap_ID\" and \"Hugo_Symbol\"\n",
    "df_m = pd.read_csv(\"../data/mutation.csv\",   usecols=[\"Variant_Classification\", \"DepMap_ID\", \"Hugo_Symbol\"])"
   ]
  },
  {
   "cell_type": "code",
   "execution_count": null,
   "metadata": {},
   "outputs": [],
   "source": [
    "df_m.head()"
   ]
  },
  {
   "cell_type": "code",
   "execution_count": null,
   "metadata": {},
   "outputs": [],
   "source": [
    "# read Sample Info\n",
    "df_s = pd.read_csv(\"../data/sample_info.csv\")"
   ]
  },
  {
   "cell_type": "code",
   "execution_count": null,
   "metadata": {},
   "outputs": [],
   "source": [
    "df_s.head()"
   ]
  },
  {
   "cell_type": "code",
   "execution_count": null,
   "metadata": {},
   "outputs": [],
   "source": [
    "# Set the column 'DepMap_ID' as index (for later joining)\n",
    "df_s = df_s.set_index(\"DepMap_ID\")\n",
    "df_s.head()"
   ]
  },
  {
   "cell_type": "markdown",
   "metadata": {},
   "source": [
    "- Before we proceed, let us check for how many samples we actually have mutation AND expression data.\n",
    "- Add some further justification here **Andreas**\n",
    "\n",
    "We will visualize the overlap usig a Venn Diagram. This is nicely implement in the `matplotlib_venn` package, which we still need to load prior to using it. More precisely, we load only the `venn2` function from the package below."
   ]
  },
  {
   "cell_type": "code",
   "execution_count": null,
   "metadata": {},
   "outputs": [],
   "source": [
    "from matplotlib_venn import venn2\n",
    "plt.figure(figsize=(8,8))\n",
    "venn2([set(df_m.DepMap_ID.values), set(df_e.index.values)],set_labels=('Mutation', 'Expression'))\n",
    "plt.show()"
   ]
  },
  {
   "cell_type": "code",
   "execution_count": null,
   "metadata": {},
   "outputs": [],
   "source": [
    "# Generate a dataframe with only TP53 mutation status against all cell lines (absence of mutation is wild-type)\n",
    "df_tp53 = df_m.query(\"Hugo_Symbol == 'TP53'\")\n",
    "df_tp53.head()"
   ]
  },
  {
   "cell_type": "code",
   "execution_count": null,
   "metadata": {},
   "outputs": [],
   "source": [
    "# Let us check how often each sample appears\n",
    "# We wrap the result from value_counts() (which strictly speaking is a Series object) into a DataFrame\n",
    "# to have a somewhat prettier print output in this notebook.\n",
    "pd.DataFrame(df_tp53.DepMap_ID.value_counts())"
   ]
  },
  {
   "cell_type": "code",
   "execution_count": null,
   "metadata": {},
   "outputs": [],
   "source": [
    "# That is only partially understandable, but let us show the counts of each frequency\n",
    "plt.figure(figsize=(10,5))\n",
    "df_tp53.DepMap_ID.value_counts().plot.hist();"
   ]
  },
  {
   "cell_type": "code",
   "execution_count": null,
   "metadata": {},
   "outputs": [],
   "source": [
    "# Let us look at one particular sample that has 6 mutatios\n",
    "df_tp53.query(\"DepMap_ID == 'ACH-000993'\")"
   ]
  },
  {
   "cell_type": "markdown",
   "metadata": {},
   "source": [
    "In order to simplify the analyses (and hence be able to focus on the Python part), we decided to drop all samples that have more than one variant in TP53"
   ]
  },
  {
   "cell_type": "code",
   "execution_count": null,
   "metadata": {},
   "outputs": [],
   "source": [
    "df_tp53_single = df_tp53.drop_duplicates(subset=[\"DepMap_ID\"])\n",
    "df_tp53_single.head()"
   ]
  },
  {
   "cell_type": "code",
   "execution_count": null,
   "metadata": {},
   "outputs": [],
   "source": [
    "# Just to confirm that we now only have samples which appear once:\n",
    "df_tp53_single.DepMap_ID.value_counts().unique()"
   ]
  },
  {
   "cell_type": "code",
   "execution_count": null,
   "metadata": {},
   "outputs": [],
   "source": [
    "# Set DepMap_ID as index and drop the Hugo_Symbol column, as it is useless now\n",
    "df_tp53_single_thin = df_tp53_single[[\"Variant_Classification\", \"DepMap_ID\"]].set_index(\"DepMap_ID\")\n",
    "df_tp53_single_thin.head()"
   ]
  },
  {
   "cell_type": "code",
   "execution_count": null,
   "metadata": {},
   "outputs": [],
   "source": [
    "# Merge the variant classification per sample with expression of TP53 from the expression dataframe\n",
    "df_tp53_exp = df_tp53_single_thin.join(df_e[[\"TP53\"]])\n",
    "df_tp53_exp"
   ]
  },
  {
   "cell_type": "markdown",
   "metadata": {},
   "source": [
    "Ooops we observe `NaN` values for `TP53`, which is a result of having no TP53 expression data in `df_e` for the corresponding sample-id. For example:"
   ]
  },
  {
   "cell_type": "code",
   "execution_count": null,
   "metadata": {},
   "outputs": [],
   "source": [
    "\"ACH-002396\" in df_e.index"
   ]
  },
  {
   "cell_type": "code",
   "execution_count": null,
   "metadata": {},
   "outputs": [],
   "source": [
    "\"ACH-000003\" in df_e.index"
   ]
  },
  {
   "cell_type": "markdown",
   "metadata": {},
   "source": [
    "Let us use again a Venn diagram to show the overlap"
   ]
  },
  {
   "cell_type": "code",
   "execution_count": null,
   "metadata": {},
   "outputs": [],
   "source": [
    "plt.figure(figsize=(8,8))\n",
    "venn2([set(df_tp53_single_thin.index.values), set(df_e.index.values)],set_labels=('Mutation', 'Expression'))\n",
    "plt.show()"
   ]
  },
  {
   "cell_type": "code",
   "execution_count": null,
   "metadata": {},
   "outputs": [],
   "source": [
    "# We can also use value_counts to count the number of samples with missing value: \n",
    "pd.DataFrame(df_tp53_exp.TP53.value_counts(dropna=False))"
   ]
  },
  {
   "cell_type": "code",
   "execution_count": null,
   "metadata": {},
   "outputs": [],
   "source": [
    "# Let us discard the samples with missig va lue in TP53\n",
    "df_tp53_exp_no_na = df_tp53_exp.dropna()\n",
    "df_tp53_exp_no_na"
   ]
  },
  {
   "cell_type": "markdown",
   "metadata": {},
   "source": [
    "Seaborn is a great and handy library for (statistical) data visualization in Python.\n",
    "\n",
    "As a start we recommend to checkout the [Example Gallery](https://seaborn.pydata.org/examples/index.html). "
   ]
  },
  {
   "cell_type": "code",
   "execution_count": null,
   "metadata": {},
   "outputs": [],
   "source": [
    "import seaborn as sns"
   ]
  },
  {
   "cell_type": "markdown",
   "metadata": {},
   "source": [
    "Off-topic: Why do we use `sns` above? Check [this](https://www.reddit.com/r/learnpython/comments/5oscmr/why_is_seaborn_commonly_imported_as_sns/) out."
   ]
  },
  {
   "cell_type": "code",
   "execution_count": null,
   "metadata": {},
   "outputs": [],
   "source": [
    "sns.boxplot(data=df_tp53_exp_no_na, \n",
    "            x=\"Variant_Classification\", \n",
    "            y=\"TP53\");"
   ]
  },
  {
   "cell_type": "markdown",
   "metadata": {},
   "source": [
    "Hm... That looks weird and we can't even read the x-labels. Let us adjust some options to improve the visual appearance."
   ]
  },
  {
   "cell_type": "code",
   "execution_count": null,
   "metadata": {},
   "outputs": [],
   "source": [
    "plt.figure(figsize=(14,7)) # change figure size\n",
    "sns.set_context('talk')\n",
    "sns.set_style('whitegrid')\n",
    "sns.boxplot(data=df_tp53_exp_no_na, \n",
    "            x=\"Variant_Classification\", \n",
    "            y=\"TP53\");\n",
    "plt.xticks(rotation=45); # rotate x-labels by 45 degrees counter clock-wise"
   ]
  },
  {
   "cell_type": "code",
   "execution_count": null,
   "metadata": {},
   "outputs": [],
   "source": [
    "df_m_wt"
   ]
  },
  {
   "cell_type": "code",
   "execution_count": null,
   "metadata": {},
   "outputs": [],
   "source": [
    "df_exp_2 = df_e.loc[df_e.index.isin(df_m.DepMap_ID),['TP53']]\n",
    "df_exp_2"
   ]
  },
  {
   "cell_type": "code",
   "execution_count": null,
   "metadata": {},
   "outputs": [],
   "source": [
    "df_exp_3 = df_exp_2.join(df_tp53_single_thin).fillna('WT')\n",
    "df_exp_3"
   ]
  },
  {
   "cell_type": "code",
   "execution_count": null,
   "metadata": {},
   "outputs": [],
   "source": [
    "df_exp_3.Variant_Classification.value_counts()"
   ]
  },
  {
   "cell_type": "code",
   "execution_count": null,
   "metadata": {},
   "outputs": [],
   "source": [
    "plt.figure(figsize=(14,7)) # change figure size\n",
    "sns.set_context('talk')\n",
    "sns.set_style('whitegrid')\n",
    "sns.boxplot(data=df_exp_3, \n",
    "            x=\"Variant_Classification\", \n",
    "            y=\"TP53\");\n",
    "plt.xticks(rotation=45); # rotate x-labels by 45 degrees counter clock-wise"
   ]
  },
  {
   "cell_type": "code",
   "execution_count": null,
   "metadata": {},
   "outputs": [],
   "source": [
    "order_desc = df_exp_3.groupby('Variant_Classification').median().sort_values(by='TP53',ascending = False).index.tolist()"
   ]
  },
  {
   "cell_type": "code",
   "execution_count": null,
   "metadata": {},
   "outputs": [],
   "source": [
    "plt.figure(figsize=(14,7)) # change figure size\n",
    "sns.set_context('talk')\n",
    "sns.set_style('whitegrid')\n",
    "sns.boxplot(data=df_exp_3, \n",
    "            x=\"Variant_Classification\", \n",
    "            y=\"TP53\",\n",
    "           order = order_desc);\n",
    "plt.xticks(rotation=45); # rotate x-labels by 45 degrees counter clock-wise\n",
    "plt.savefig('nice_plot.png',bbox_inches = 'tight')"
   ]
  },
  {
   "cell_type": "code",
   "execution_count": null,
   "metadata": {},
   "outputs": [],
   "source": [
    "def beautiful_viz(df, plot_func, file_name, x=\"Variant_Classification\", y=\"TP53\", order_var=[]):\n",
    "    plt.figure(figsize=(14,7)) # change figure size\n",
    "    sns.set_context('talk')\n",
    "    sns.set_style('whitegrid')\n",
    "    plot_func(data=df, \n",
    "                x=x, \n",
    "                y=y,\n",
    "               order = order_var);\n",
    "    plt.xticks(rotation=45); # rotate x-labels by 45 degrees counter clock-wise\n",
    "    plt.savefig(file_name,bbox_inches = 'tight')"
   ]
  },
  {
   "cell_type": "code",
   "execution_count": null,
   "metadata": {},
   "outputs": [],
   "source": [
    "beautiful_viz(df_exp_3,sns.swarmplot,'nice.png')"
   ]
  },
  {
   "cell_type": "code",
   "execution_count": null,
   "metadata": {},
   "outputs": [],
   "source": [
    "# join proper cell line (that biologsts understand)\n",
    "df_out = df_exp_3.join(df_s[['stripped_cell_line_name',\"lineage\",\"lineage_subtype\",\"lineage_sub_subtype\"]])"
   ]
  },
  {
   "cell_type": "code",
   "execution_count": null,
   "metadata": {},
   "outputs": [],
   "source": [
    "df_out"
   ]
  },
  {
   "cell_type": "code",
   "execution_count": null,
   "metadata": {},
   "outputs": [],
   "source": [
    "# save excel file\n",
    "df_out.to_csv('../data/tp53_expr_mut_status.csv')"
   ]
  },
  {
   "cell_type": "markdown",
   "metadata": {},
   "source": [
    "# Your python future\n",
    "* install [anaconda](https://www.anaconda.com/)\n",
    "* python [tutorial](https://docs.python.org/3/tutorial/) by Guido van Rossum\n",
    "* read [python for data analysis](http://shop.oreilly.com/product/0636920050896.do) by Wes McKinney\n",
    "* [codeacademy](http://www.codecademy.com)\n",
    "* use python work(!)\n",
    "* go to pydata meetups in cologne"
   ]
  }
 ],
 "metadata": {
  "celltoolbar": "Slideshow",
  "kernelspec": {
   "display_name": "Python 3",
   "language": "python",
   "name": "python3"
  },
  "language_info": {
   "codemirror_mode": {
    "name": "ipython",
    "version": 3
   },
   "file_extension": ".py",
   "mimetype": "text/x-python",
   "name": "python",
   "nbconvert_exporter": "python",
   "pygments_lexer": "ipython3",
   "version": "3.7.3"
  }
 },
 "nbformat": 4,
 "nbformat_minor": 4
}
