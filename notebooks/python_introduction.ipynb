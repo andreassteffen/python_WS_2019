{
 "cells": [
  {
   "cell_type": "markdown",
   "metadata": {},
   "source": [
    "# overview\n",
    "* basic python\n",
    "* accessing data\n",
    "* storing data in database\n",
    "* manipulating dataframes\n",
    "* visualizing data\n",
    "* split-apply-combine\n",
    "* heatmaps\n",
    "* simple multilable classifier"
   ]
  },
  {
   "cell_type": "markdown",
   "metadata": {},
   "source": [
    "## basic python"
   ]
  },
  {
   "cell_type": "code",
   "execution_count": null,
   "metadata": {},
   "outputs": [],
   "source": [
    "# import some libraries\n",
    "import pandas as pd # dataframes\n",
    "import seaborn as sns # visualization\n",
    "%pylab inline"
   ]
  },
  {
   "cell_type": "code",
   "execution_count": null,
   "metadata": {},
   "outputs": [],
   "source": [
    "# explain variables and dynamic types in python\n",
    "a=1\n",
    "print(a)\n",
    "a=\"eins\"\n",
    "print(a)"
   ]
  },
  {
   "cell_type": "code",
   "execution_count": null,
   "metadata": {},
   "outputs": [],
   "source": [
    "# explain list / set\n",
    "mylist = [1,1,2,2,3,4,5,'sechs','sieben',0x08]\n",
    "print(mylist)\n",
    "myset = set(mylist)\n",
    "print(myset)"
   ]
  },
  {
   "cell_type": "code",
   "execution_count": null,
   "metadata": {},
   "outputs": [],
   "source": [
    "# explain dictionary\n",
    "mydict = dict()\n",
    "mydict['Andreas Steffen']=1\n",
    "mydict['Djork-Arne']=5\n",
    "print(mydict)\n",
    "mydict = {'Andreas Steffen': 1, 'Djork-Arne': 5}\n",
    "print(mydict)"
   ]
  },
  {
   "cell_type": "code",
   "execution_count": null,
   "metadata": {},
   "outputs": [],
   "source": [
    "# show a for loop\n",
    "for ele in mylist:\n",
    "    print(ele)"
   ]
  },
  {
   "cell_type": "code",
   "execution_count": null,
   "metadata": {},
   "outputs": [],
   "source": [
    "# show list comprehension\n",
    "[ele for ele in mylist if isinstance(ele, int)]"
   ]
  },
  {
   "cell_type": "code",
   "execution_count": null,
   "metadata": {},
   "outputs": [],
   "source": [
    "# import the random lib\n",
    "import random"
   ]
  },
  {
   "cell_type": "code",
   "execution_count": null,
   "metadata": {},
   "outputs": [],
   "source": [
    "# a simple function\n",
    "def random_int(max_int):\n",
    "    ret_val = random.randint(0, max_int)\n",
    "    return ret_val"
   ]
  },
  {
   "cell_type": "code",
   "execution_count": null,
   "metadata": {},
   "outputs": [],
   "source": [
    "random_int(99)"
   ]
  },
  {
   "cell_type": "code",
   "execution_count": null,
   "metadata": {},
   "outputs": [],
   "source": [
    "# explain dataframes\n",
    "df = pd.DataFrame([random_int(100) for _ in range(10)])\n",
    "print(df)\n",
    "df = pd.DataFrame(columns = ['col1','col2'], data = [[1,'eins'],[2,'zwei']])\n",
    "print(df)"
   ]
  },
  {
   "cell_type": "code",
   "execution_count": null,
   "metadata": {},
   "outputs": [],
   "source": [
    "print(df.dtypes)\n",
    "df.describe()"
   ]
  },
  {
   "cell_type": "markdown",
   "metadata": {},
   "source": [
    "# enough basics, let's do some data science"
   ]
  },
  {
   "cell_type": "code",
   "execution_count": null,
   "metadata": {},
   "outputs": [],
   "source": [
    "# read in the data expression. it's in the data folder\n",
    "data = pd.read_table('../data/expression.tsv')"
   ]
  },
  {
   "cell_type": "code",
   "execution_count": null,
   "metadata": {},
   "outputs": [],
   "source": [
    "# let's inspect\n",
    "data.head()"
   ]
  },
  {
   "cell_type": "code",
   "execution_count": null,
   "metadata": {},
   "outputs": [],
   "source": [
    "# write data into a sqlite db\n",
    "import sqlite3 as lite\n",
    "con = lite.connect('../data/expression.db')\n",
    "data.to_sql('expression',if_exists = 'replace', index = None, con = con)"
   ]
  },
  {
   "cell_type": "code",
   "execution_count": null,
   "metadata": {},
   "outputs": [],
   "source": [
    "# and read it back\n",
    "data1 = pd.read_sql('SELECT * FROM expression', con)"
   ]
  },
  {
   "cell_type": "code",
   "execution_count": null,
   "metadata": {},
   "outputs": [],
   "source": [
    "data1.head()"
   ]
  },
  {
   "cell_type": "code",
   "execution_count": null,
   "metadata": {},
   "outputs": [],
   "source": [
    "# show indexing\n",
    "data.loc[[1,2],:]"
   ]
  },
  {
   "cell_type": "code",
   "execution_count": null,
   "metadata": {},
   "outputs": [],
   "source": [
    "data.loc[[1,2], ['title','plot']]"
   ]
  },
  {
   "cell_type": "code",
   "execution_count": null,
   "metadata": {},
   "outputs": [],
   "source": [
    "# only selected columns\n",
    "data[['title','plot']]"
   ]
  },
  {
   "cell_type": "code",
   "execution_count": null,
   "metadata": {},
   "outputs": [],
   "source": [
    "# let's extract the year\n",
    "data['year'] = data.title.str.extract('\\((\\d{4})', expand = True)[0]\n",
    "#data['year'] = data.title.str.extract('\\((\\d{4})(/[IVXD]{1,3})?\\)', expand = True)[0]"
   ]
  },
  {
   "cell_type": "code",
   "execution_count": null,
   "metadata": {},
   "outputs": [],
   "source": [
    "data.year.unique()"
   ]
  },
  {
   "cell_type": "code",
   "execution_count": null,
   "metadata": {},
   "outputs": [],
   "source": [
    "# find NA years\n",
    "data[pd.isnull(data.year)]"
   ]
  },
  {
   "cell_type": "code",
   "execution_count": null,
   "metadata": {},
   "outputs": [],
   "source": [
    "# drop the ones without a year\n",
    "data = data.dropna(subset = ['year'])"
   ]
  },
  {
   "cell_type": "code",
   "execution_count": null,
   "metadata": {},
   "outputs": [],
   "source": [
    "# drop duplicates by year and plot\n",
    "data = data.drop_duplicates(['year', 'plot'])"
   ]
  },
  {
   "cell_type": "code",
   "execution_count": null,
   "metadata": {},
   "outputs": [],
   "source": [
    "# plot by year\n",
    "plt.figure(figsize = (20,9))\n",
    "data.year.value_counts().sort_index().plot.bar()\n",
    "sns.despine()"
   ]
  },
  {
   "cell_type": "code",
   "execution_count": null,
   "metadata": {},
   "outputs": [],
   "source": [
    "!pip3 install langdetect"
   ]
  },
  {
   "cell_type": "code",
   "execution_count": null,
   "metadata": {},
   "outputs": [],
   "source": [
    "# only english\n",
    "from langdetect import detect"
   ]
  },
  {
   "cell_type": "code",
   "execution_count": null,
   "metadata": {},
   "outputs": [],
   "source": [
    "print(detect(\"My name is Andreas Steffen\"))"
   ]
  },
  {
   "cell_type": "code",
   "execution_count": null,
   "metadata": {},
   "outputs": [],
   "source": [
    "print(detect(\"Ich heisse Andreas Steffen\"))"
   ]
  },
  {
   "cell_type": "code",
   "execution_count": null,
   "metadata": {},
   "outputs": [],
   "source": [
    "# show for top 100\n",
    "[detect(plot) for plot in data['plot'].head(100).tolist()]"
   ]
  },
  {
   "cell_type": "code",
   "execution_count": null,
   "metadata": {},
   "outputs": [],
   "source": [
    "# do for all takes to long\n",
    "data['language'] = [detect(plot) for plot in data['plot'].tolist()]"
   ]
  },
  {
   "cell_type": "code",
   "execution_count": null,
   "metadata": {},
   "outputs": [],
   "source": [
    "# read in language \n",
    "#data.to_csv('../data/movies_genres.with_year_lang.tsv', sep = '\\t')\n",
    "data = pd.read_table('../data/movies_genres.with_year_lang.tsv', sep = '\\t',index_col = 0)\n",
    "#data.shape"
   ]
  },
  {
   "cell_type": "code",
   "execution_count": null,
   "metadata": {},
   "outputs": [],
   "source": [
    "# show stats\n",
    "data.language.value_counts()"
   ]
  },
  {
   "cell_type": "code",
   "execution_count": null,
   "metadata": {},
   "outputs": [],
   "source": [
    "# check some languages\n",
    "data.query(\"language == 'it'\")['plot'].tolist()"
   ]
  },
  {
   "cell_type": "code",
   "execution_count": null,
   "metadata": {},
   "outputs": [],
   "source": [
    "data = data.query(\"language == 'en'\")"
   ]
  },
  {
   "cell_type": "code",
   "execution_count": null,
   "metadata": {},
   "outputs": [],
   "source": [
    "# get genres\n",
    "genres = data.filter(regex = \"[A-Z]\", axis = 1).columns.tolist()"
   ]
  },
  {
   "cell_type": "code",
   "execution_count": null,
   "metadata": {},
   "outputs": [],
   "source": [
    "genres"
   ]
  },
  {
   "cell_type": "code",
   "execution_count": null,
   "metadata": {},
   "outputs": [],
   "source": [
    "# plot genre occurence\n",
    "plt.figure(figsize = (20,9))\n",
    "data[genres].sum().plot.bar()\n",
    "sns.despine()"
   ]
  },
  {
   "cell_type": "code",
   "execution_count": null,
   "metadata": {},
   "outputs": [],
   "source": [
    "# melt the data\n",
    "data_melt = pd.melt(data,id_vars = ['title', 'plot'], value_vars = genres, var_name = 'genre')"
   ]
  },
  {
   "cell_type": "code",
   "execution_count": null,
   "metadata": {},
   "outputs": [],
   "source": [
    "# remove zeros\n",
    "data_melt = data_melt[data_melt.value!=0]"
   ]
  },
  {
   "cell_type": "code",
   "execution_count": null,
   "metadata": {},
   "outputs": [],
   "source": [
    "# calculate average number of chars in plot description per genre and plot\n",
    "plt.figure(figsize = (20,9))\n",
    "data_melt.groupby('genre').apply(lambda x: x['plot'].str.len().mean()).plot.bar()\n",
    "sns.despine()"
   ]
  },
  {
   "cell_type": "code",
   "execution_count": null,
   "metadata": {},
   "outputs": [],
   "source": [
    "# calculate the plot string len\n",
    "data_melt['plot_string_len'] = data_melt['plot'].str.len()"
   ]
  },
  {
   "cell_type": "code",
   "execution_count": null,
   "metadata": {},
   "outputs": [],
   "source": [
    "# but let's use a boxplot\n",
    "plt.figure(figsize=(20,9))\n",
    "g = sns.boxplot(data = data_melt, x= 'genre', y= 'plot_string_len', color = '#dd00aa')\n",
    "g.set( yscale=\"log\")\n",
    "plt.xticks(rotation = 90)\n",
    "sns.despine()"
   ]
  },
  {
   "cell_type": "code",
   "execution_count": null,
   "metadata": {},
   "outputs": [],
   "source": [
    "# inspect strongst outlier\n",
    "data_melt.sort_values('plot_string_len', ascending = False).head(1)['plot'].values"
   ]
  },
  {
   "cell_type": "code",
   "execution_count": null,
   "metadata": {},
   "outputs": [],
   "source": [
    "# calculate similarity of genres\n",
    "from scipy.spatial import distance as d"
   ]
  },
  {
   "cell_type": "code",
   "execution_count": null,
   "metadata": {},
   "outputs": [],
   "source": [
    "# filter the genre subset\n",
    "data_genres = data.filter(regex = '[A-Z]', axis = 1)"
   ]
  },
  {
   "cell_type": "code",
   "execution_count": null,
   "metadata": {},
   "outputs": [],
   "source": [
    "data_genres.head()"
   ]
  },
  {
   "cell_type": "code",
   "execution_count": null,
   "metadata": {},
   "outputs": [],
   "source": [
    "# plot the similarity heatmap\n",
    "res = 1-d.squareform(d.pdist(data_genres.T, 'jaccard'))\n",
    "plt.figure(figsize = (10,10))\n",
    "sims = pd.DataFrame(res, index=data_genres.columns, columns= data_genres.columns)\n",
    "sns.heatmap(sims)"
   ]
  },
  {
   "cell_type": "markdown",
   "metadata": {},
   "source": [
    "# let's do some descriptive stats, man!"
   ]
  },
  {
   "cell_type": "code",
   "execution_count": null,
   "metadata": {},
   "outputs": [],
   "source": [
    "# ttest"
   ]
  },
  {
   "cell_type": "code",
   "execution_count": 1,
   "metadata": {},
   "outputs": [],
   "source": [
    "# xkcd multiple testing"
   ]
  },
  {
   "cell_type": "code",
   "execution_count": 2,
   "metadata": {},
   "outputs": [],
   "source": [
    "# multiple testing"
   ]
  },
  {
   "cell_type": "code",
   "execution_count": null,
   "metadata": {},
   "outputs": [],
   "source": [
    "# correlation"
   ]
  },
  {
   "cell_type": "markdown",
   "metadata": {},
   "source": [
    "# how about training a predictive biomarker?"
   ]
  },
  {
   "cell_type": "code",
   "execution_count": null,
   "metadata": {},
   "outputs": [],
   "source": [
    "# import sklearn\n",
    "from sklearn.feature_extraction.text import TfidfVectorizer\n",
    "from sklearn.ensemble import RandomForestClassifier\n",
    "from sklearn.pipeline import Pipeline\n",
    "from sklearn.multiclass import OneVsRestClassifier\n",
    "from sklearn.svm import LinearSVCxm"
   ]
  },
  {
   "cell_type": "code",
   "execution_count": null,
   "metadata": {},
   "outputs": [],
   "source": [
    "# transformation and training pipeline\n",
    "tfidf = TfidfVectorizer()\n",
    "classifier = Pipeline([\n",
    "    ('tfidf', TfidfVectorizer()),\n",
    "    ('clf', OneVsRestClassifier(RandomForestClassifier()))])"
   ]
  },
  {
   "cell_type": "code",
   "execution_count": null,
   "metadata": {},
   "outputs": [],
   "source": [
    "# just train on the top 10000 in the interest of time\n",
    "train_x = data['plot'].head(1000)"
   ]
  },
  {
   "cell_type": "code",
   "execution_count": null,
   "metadata": {},
   "outputs": [],
   "source": [
    "# convert to a matrix format (just because sklearn needs it)\n",
    "train_y = data_genres.head(1000).as_matrix()"
   ]
  },
  {
   "cell_type": "code",
   "execution_count": null,
   "metadata": {},
   "outputs": [],
   "source": [
    "# fit the model\n",
    "classifier.fit(train_x, train_y)"
   ]
  },
  {
   "cell_type": "code",
   "execution_count": null,
   "metadata": {},
   "outputs": [],
   "source": [
    "# let's fetch some movie descriptions from itunes\n",
    "actor = 'Cate Blanchett'.replace(' ','+')\n",
    "test = pd.read_json('https://itunes.apple.com/search?term={actor}&entity=movie&limit=200'.format(actor = actor))"
   ]
  },
  {
   "cell_type": "code",
   "execution_count": null,
   "metadata": {},
   "outputs": [],
   "source": [
    "# some tweaking of the input\n",
    "test_extract = test.results.apply(lambda x: pd.Series({'plot': x['longDescription'],'title':x['trackName']}) )"
   ]
  },
  {
   "cell_type": "code",
   "execution_count": null,
   "metadata": {},
   "outputs": [],
   "source": [
    "test_extract"
   ]
  },
  {
   "cell_type": "code",
   "execution_count": null,
   "metadata": {},
   "outputs": [],
   "source": [
    "# predict probabilities\n",
    "predicted = classifier.predict_proba(test_extract['plot'])"
   ]
  },
  {
   "cell_type": "code",
   "execution_count": null,
   "metadata": {},
   "outputs": [],
   "source": [
    "# convert to dataframe\n",
    "predicted = pd.DataFrame(predicted, columns = data_genres.columns, index = test_extract.title)"
   ]
  },
  {
   "cell_type": "code",
   "execution_count": null,
   "metadata": {},
   "outputs": [],
   "source": [
    "# and plot\n",
    "plt.figure(figsize=(20,20))\n",
    "sns.heatmap(predicted)"
   ]
  },
  {
   "cell_type": "code",
   "execution_count": null,
   "metadata": {},
   "outputs": [],
   "source": [
    "from IPython.display import Javascript\n",
    "#runs arbitrary javascript, client-side\n",
    "Javascript(\"\"\"\n",
    "           window.datatable={};\n",
    "           console.log('test');\n",
    "           \"\"\".format(predicted.reset_index().to_json(orient='records')))"
   ]
  },
  {
   "cell_type": "code",
   "execution_count": null,
   "metadata": {},
   "outputs": [],
   "source": [
    "predicted.reset_index()"
   ]
  },
  {
   "cell_type": "code",
   "execution_count": null,
   "metadata": {},
   "outputs": [],
   "source": [
    "%%javascript\n",
    "element.append(\"<div id = 'lineuptable'></div>\")\n",
    "require(['./LineUpJS_bundle.min.js'],function(LineUpJS){\n",
    "    const arr = window.datatable\n",
    "    console.log(arr);\n",
    "    const desc = [\n",
    "              {label: 'title', type: 'string', column: 'title'},\n",
    "              {label: 'Drama', type: 'number', column: 'Drama', 'domain': [0, 1]},\n",
    "              {label: 'Romance', type: 'number', column: 'Romance', 'domain': [0, 1]}\n",
    "     ]\n",
    "\n",
    "    var colors = d3.scale.category10();\n",
    "    console.log(colors);\n",
    "    desc.forEach(function (d, i) {\n",
    "      d.color = colors('' + i);\n",
    "    });\n",
    "    \n",
    "    const p = new LineUpJS.provider.LocalDataProvider(arr, desc);    \n",
    "     {\n",
    "      const r = p.pushRanking();\n",
    "         r.push(p.create(desc[0]));\n",
    "          r.push((function () {\n",
    "        const rstack = p.create(LineUpJS.model.createStackDesc('Stack'));\n",
    "        rstack.push(p.create(desc[1]));\n",
    "        rstack.push(p.create(desc[2]));\n",
    "     \n",
    "        rstack.setWeights([1, 1]);\n",
    "        return rstack;\n",
    "      })());\n",
    "    \n",
    "    }\n",
    "    const instance = LineUpJS.create(p, document.getElementById('lineuptable'), {\n",
    "     \n",
    "    });\n",
    "    instance.update();\n",
    "});\n"
   ]
  },
  {
   "cell_type": "code",
   "execution_count": null,
   "metadata": {},
   "outputs": [],
   "source": []
  },
  {
   "cell_type": "code",
   "execution_count": null,
   "metadata": {},
   "outputs": [],
   "source": []
  }
 ],
 "metadata": {
  "kernelspec": {
   "display_name": "Python 3",
   "language": "python",
   "name": "python3"
  },
  "language_info": {
   "codemirror_mode": {
    "name": "ipython",
    "version": 3
   },
   "file_extension": ".py",
   "mimetype": "text/x-python",
   "name": "python",
   "nbconvert_exporter": "python",
   "pygments_lexer": "ipython3",
   "version": "3.7.3"
  }
 },
 "nbformat": 4,
 "nbformat_minor": 4
}
